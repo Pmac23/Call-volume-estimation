{
 "cells": [
  {
   "cell_type": "code",
   "execution_count": 9,
   "metadata": {},
   "outputs": [
    {
     "name": "stdout",
     "output_type": "stream",
     "text": [
      "[[-10, 7, -5, -2, 8], [-5, -1, -7, 4, 5], [-7, -10, 6, -4, -2], [1, 2, 6, -9, 9], [-5, 1, 8, 0, -2], [3, -2, -8, 0, 1], [-4, 9, 8, 6, 0], [5, -1, 4, -10, -2], [8, 0, 5, 6, -4], [-3, 0, 4, 5, 9], [2, -9, 9, 7, -6], [5, -2, 6, -6, 2], [-5, 9, 6, -1, 3], [-4, -3, -7, -5, 1], [4, -8, 7, -2, -3], [3, -6, 8, 1, 5], [7, -10, 0, 1, -3], [6, -3, -10, -5, -8], [7, -6, -10, 9, -1], [5, -5, -2, -3, 4]]\n"
     ]
    }
   ],
   "source": [
    "import random\n",
    "from reportlab.lib.pagesizes import letter\n",
    "from reportlab.lib.colors import red, green, blue\n",
    "from reportlab.platypus import SimpleDocTemplate, Table, TableStyle\n",
    "\n",
    "# Generate random data with positive and negative values as list of lists.\n",
    "data = []\n",
    "for _ in range(20):\n",
    "    data.append(random.sample(range(-10, 10), 5))\n",
    "table_style = TableStyle([('ALIGN', (0, 0), (-1, -1), 'RIGHT')])\n",
    "# Loop through list of lists creating styles for cells with negative value.\n",
    "print data\n",
    "for row, values, in enumerate(data):\n",
    "    if row == 1:\n",
    "        for column, value in enumerate(values):\n",
    "            if value < 0:\n",
    "                table_style.add('TEXTCOLOR', (column, row), (column, row), green)\n",
    "\n",
    "table = Table(data)\n",
    "table.setStyle(table_style)\n",
    "pdf = SimpleDocTemplate('example.pdf', pagesize=letter)\n",
    "pdf.build([table])"
   ]
  },
  {
   "cell_type": "code",
   "execution_count": 1,
   "metadata": {},
   "outputs": [],
   "source": [
    "import cv2"
   ]
  },
  {
   "cell_type": "code",
   "execution_count": 2,
   "metadata": {},
   "outputs": [
    {
     "ename": "AttributeError",
     "evalue": "'module' object has no attribute 'open'",
     "output_type": "error",
     "traceback": [
      "\u001b[1;31m---------------------------------------------------------------------------\u001b[0m",
      "\u001b[1;31mAttributeError\u001b[0m                            Traceback (most recent call last)",
      "\u001b[1;32m<ipython-input-2-05711ce1167f>\u001b[0m in \u001b[0;36m<module>\u001b[1;34m()\u001b[0m\n\u001b[1;32m----> 1\u001b[1;33m \u001b[0mimg\u001b[0m \u001b[1;33m=\u001b[0m \u001b[0mcv2\u001b[0m\u001b[1;33m.\u001b[0m\u001b[0mopen\u001b[0m\u001b[1;33m(\u001b[0m\u001b[1;34m'./Picture1.jpg'\u001b[0m\u001b[1;33m)\u001b[0m\u001b[1;33m\u001b[0m\u001b[0m\n\u001b[0m",
      "\u001b[1;31mAttributeError\u001b[0m: 'module' object has no attribute 'open'"
     ]
    }
   ],
   "source": [
    "img = cv2.open('./Picture1.jpg')"
   ]
  },
  {
   "cell_type": "code",
   "execution_count": null,
   "metadata": {},
   "outputs": [],
   "source": []
  }
 ],
 "metadata": {
  "kernelspec": {
   "display_name": "Python 2",
   "language": "python",
   "name": "python2"
  },
  "language_info": {
   "codemirror_mode": {
    "name": "ipython",
    "version": 2
   },
   "file_extension": ".py",
   "mimetype": "text/x-python",
   "name": "python",
   "nbconvert_exporter": "python",
   "pygments_lexer": "ipython2",
   "version": "2.7.16"
  }
 },
 "nbformat": 4,
 "nbformat_minor": 2
}
